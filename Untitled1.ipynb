{
  "nbformat": 4,
  "nbformat_minor": 0,
  "metadata": {
    "colab": {
      "provenance": [],
      "authorship_tag": "ABX9TyPKD+XZFTapnrFT479j5a28",
      "include_colab_link": true
    },
    "kernelspec": {
      "name": "python3",
      "display_name": "Python 3"
    },
    "language_info": {
      "name": "python"
    }
  },
  "cells": [
    {
      "cell_type": "markdown",
      "metadata": {
        "id": "view-in-github",
        "colab_type": "text"
      },
      "source": [
        "<a href=\"https://colab.research.google.com/github/Geovani-Gomes/Python/blob/main/Untitled1.ipynb\" target=\"_parent\"><img src=\"https://colab.research.google.com/assets/colab-badge.svg\" alt=\"Open In Colab\"/></a>"
      ]
    },
    {
      "cell_type": "markdown",
      "source": [],
      "metadata": {
        "id": "6mwMfSt-S6Ee"
      }
    },
    {
      "cell_type": "markdown",
      "source": [
        "# Primeiras impressões em Python"
      ],
      "metadata": {
        "id": "kK9Vehj2VlQe"
      }
    },
    {
      "cell_type": "markdown",
      "source": [
        "Função que retorna a soma de dois números"
      ],
      "metadata": {
        "id": "R2jTtnP3WFcy"
      }
    },
    {
      "cell_type": "code",
      "execution_count": null,
      "metadata": {
        "id": "JahF82HwvhDl"
      },
      "outputs": [],
      "source": [
        "def soma(a,b):\n",
        "   c=a+b\n",
        "   return c\n"
      ]
    },
    {
      "cell_type": "markdown",
      "source": [],
      "metadata": {
        "id": "rJ23HyjeS2cO"
      }
    },
    {
      "cell_type": "code",
      "source": [
        "soma(2,3)"
      ],
      "metadata": {
        "colab": {
          "base_uri": "https://localhost:8080/"
        },
        "id": "lkBGiPMCwiTn",
        "outputId": "b8cb98c4-4299-4851-db85-771c1a9d1125"
      },
      "execution_count": null,
      "outputs": [
        {
          "output_type": "execute_result",
          "data": {
            "text/plain": [
              "5"
            ]
          },
          "metadata": {},
          "execution_count": 2
        }
      ]
    },
    {
      "cell_type": "markdown",
      "source": [],
      "metadata": {
        "id": "kgGmul-AWCU5"
      }
    },
    {
      "cell_type": "markdown",
      "source": [
        "Essa função solicita o nome e sobrenome do usuário, concatena e exibe o nome completo."
      ],
      "metadata": {
        "id": "5PPN69QLW2XI"
      }
    },
    {
      "cell_type": "code",
      "source": [
        "def leitura():\n",
        "  nome=input(\"Digite seu nome:\")\n",
        "  sobrenome=input(\"Digite seu sobrenome: \")\n",
        "  nomecompleto=nome+\" \"+sobrenome\n",
        "  print(\"Seu nome completo eh: \", nomecompleto)\n"
      ],
      "metadata": {
        "id": "BZjP2YlFwxGU"
      },
      "execution_count": 5,
      "outputs": []
    },
    {
      "cell_type": "code",
      "source": [
        "leitura()"
      ],
      "metadata": {
        "colab": {
          "base_uri": "https://localhost:8080/"
        },
        "id": "MRbKtrB2X6Sq",
        "outputId": "5d7d8d91-573c-4c5b-dc08-f4e88ae4d821"
      },
      "execution_count": 6,
      "outputs": [
        {
          "output_type": "stream",
          "name": "stdout",
          "text": [
            "Digite seu nome:Leandro \n",
            "Digite seu sobrenome: Souza\n",
            "Seu nome completo eh:  Leandro  Souza\n"
          ]
        }
      ]
    },
    {
      "cell_type": "markdown",
      "source": [],
      "metadata": {
        "id": "1A5RI2yGVkGi"
      }
    },
    {
      "cell_type": "markdown",
      "source": [
        "solicita dois valores ao usuário, calcula a soma deles usando a função soma e imprime o resultado"
      ],
      "metadata": {
        "id": "nbTRv-UPYkmV"
      }
    },
    {
      "cell_type": "code",
      "source": [
        "x=float(input(\"Digite um valor:\"))\n",
        "y=float(input(\"Digite outro valor:\"))\n",
        "print(soma(x,y))"
      ],
      "metadata": {
        "colab": {
          "base_uri": "https://localhost:8080/"
        },
        "id": "rRWV-P8Sxsx0",
        "outputId": "34701d3a-ac30-4348-f614-327718133a0c"
      },
      "execution_count": null,
      "outputs": [
        {
          "output_type": "stream",
          "name": "stdout",
          "text": [
            "Digite um valor:3.5\n",
            "Digite outro valor:1.5\n",
            "5.0\n"
          ]
        }
      ]
    },
    {
      "cell_type": "markdown",
      "source": [
        "Verifica se a nota é maior ou igual a 70 e imprime \"Aprovado\" se for, caso contrário, imprime \"Reprovado\""
      ],
      "metadata": {
        "id": "F_3XMYz8ZlOm"
      }
    },
    {
      "cell_type": "code",
      "source": [
        "nota=float(input(\"Digite a sua nota:\"))\n",
        "if nota>=70.0:\n",
        "  print(\"Aprovado\")\n",
        "else:\n",
        "  print(\"Reprovado\")"
      ],
      "metadata": {
        "colab": {
          "base_uri": "https://localhost:8080/"
        },
        "id": "7P-snsIkyntA",
        "outputId": "3361b718-0dca-4479-c0ec-e888557d4679"
      },
      "execution_count": 7,
      "outputs": [
        {
          "output_type": "stream",
          "name": "stdout",
          "text": [
            "Digite a sua nota:90\n",
            "Aprovado\n"
          ]
        }
      ]
    },
    {
      "cell_type": "markdown",
      "source": [
        "O código lê a idade do usuário e imprime \"Bebê\" se for menor que 3, \"Criança\" se for de 3 a 9, \"Adolescente\" se for de 10 a 17, e \"Adulto\" se for 18 ou mais.\n",
        "\n",
        "\n",
        "\n",
        "\n"
      ],
      "metadata": {
        "id": "H_TmrWyGb4ir"
      }
    },
    {
      "cell_type": "code",
      "source": [
        "idade=int(input(\"Digite sua idade:\"))\n",
        "if idade<3:\n",
        "  print(\"Bebê\")\n",
        "elif idade<10:\n",
        "  print(\"Criança\")\n",
        "elif idade<18:\n",
        "  print(\"Adolescente\")\n",
        "else:\n",
        "  print(\"Adulto\")\n"
      ],
      "metadata": {
        "colab": {
          "base_uri": "https://localhost:8080/"
        },
        "id": "f01PDHRr0kAO",
        "outputId": "05ec46f4-37d5-48f5-867c-f8be82e4aabb"
      },
      "execution_count": 8,
      "outputs": [
        {
          "output_type": "stream",
          "name": "stdout",
          "text": [
            "Digite sua idade:19\n",
            "Adulto\n"
          ]
        }
      ]
    },
    {
      "cell_type": "markdown",
      "source": [
        "solicita ao usuário escolher uma forma geométrica e, em seguida, calcula e imprime a área da forma selecionada"
      ],
      "metadata": {
        "id": "gA-4Rr_md8Hc"
      }
    },
    {
      "cell_type": "code",
      "source": [
        "print(\"Escolha 1 para area quadrado, 2 area circulo, 3 do triangulo\")\n",
        "opt=int(input(\"Digite 1, 2 ou 3:\"))\n",
        "if opt==1:\n",
        "  Lado=float(input(\"indique o valor do lado do quadrado\"))\n",
        "  print(\"a area do quadrado eh:\", lado*lado)\n",
        "elif opt==2:\n",
        "  raio=float(input(\"indique o valor do raio do circulo:\"))\n",
        "  print(\"a area do circulo eh:\", 3.14*raio*raio)\n",
        "else:\n",
        "  base=float(input(\"indique o valor da base do triangulo:\"))\n",
        "  altura=float(input(\"indique o valor da altura do triangulo:\"))\n",
        "  print(\"a area do triangulo  eh:\",(base*altura/2))\n"
      ],
      "metadata": {
        "colab": {
          "base_uri": "https://localhost:8080/"
        },
        "id": "fB1w2Wm12J9X",
        "outputId": "b5a9208e-c31c-450d-d71f-2b68af5c19c8"
      },
      "execution_count": null,
      "outputs": [
        {
          "output_type": "stream",
          "name": "stdout",
          "text": [
            "Escolha 1 para area quadrado, 2 area circulo, 3 do triangulo\n",
            "Digite 1, 2 ou 3:3\n",
            "indique o valor da base do triangulo:4\n",
            "indique o valor da altura do triangulo:2\n",
            "a area do triangulo  eh: 4.0\n"
          ]
        }
      ]
    },
    {
      "cell_type": "markdown",
      "source": [
        "solicita uma senha ao usuário, permite acesso se a senha estiver correta, e bloqueia o acesso após 3 tentativas falhadas, mostrando uma mensagem. O código controla tentativas com um while loop e um contador"
      ],
      "metadata": {
        "id": "kvK_06y8eUDN"
      }
    },
    {
      "cell_type": "code",
      "source": [
        "senha=\"54321\"\n",
        "leitura=\" \"\n",
        "contador=0\n",
        "while(leitura!=senha):\n",
        "  leitura=input(\"Digite a senha:\")\n",
        "  if(leitura==senha):\n",
        "    print(\"Acesso permitido\")\n",
        "  else:\n",
        "    print(\"Senha incorreta. Tente novamente\")\n",
        "    contador = contador + 1\n",
        "    if(contador==3):\n",
        "      print(\"Acesso bloqueado\")\n",
        "      break\n",
        "print(\"Sinto muito, entre em contato com a gerente\")"
      ],
      "metadata": {
        "colab": {
          "base_uri": "https://localhost:8080/"
        },
        "id": "g7IM75jS4Di8",
        "outputId": "f9f13532-bac1-4610-a402-b2d02ddd96bd"
      },
      "execution_count": null,
      "outputs": [
        {
          "output_type": "stream",
          "name": "stdout",
          "text": [
            "Digite a senha:gghghfg\n",
            "Senha incorreta. Tente novamente\n",
            "Digite a senha:ggfbfv\n",
            "Senha incorreta. Tente novamente\n",
            "Digite a senha:gfgrth\n",
            "Senha incorreta. Tente novamente\n",
            "Acesso bloqueado\n",
            "Sinto muito, entre em contato com a gerente\n"
          ]
        }
      ]
    },
    {
      "cell_type": "markdown",
      "source": [
        " soma e imprime acumuladamente os valores de x em uma sequência de 1 a 19, com um incremento de 3 em cada iteração"
      ],
      "metadata": {
        "id": "QA4BYHxqfqdQ"
      }
    },
    {
      "cell_type": "code",
      "source": [
        "d=0\n",
        "for x in range(1,20,3):\n",
        "  d=d+x\n",
        "  print(d)"
      ],
      "metadata": {
        "colab": {
          "base_uri": "https://localhost:8080/"
        },
        "id": "mE5UuKIG-x3r",
        "outputId": "c80344b8-7154-4a85-cb8a-c8823d8d2322"
      },
      "execution_count": null,
      "outputs": [
        {
          "output_type": "stream",
          "name": "stdout",
          "text": [
            "1\n",
            "5\n",
            "12\n",
            "22\n",
            "35\n",
            "51\n",
            "70\n"
          ]
        }
      ]
    },
    {
      "cell_type": "markdown",
      "source": [
        "calcula e imprime a média das notas em uma lista, formatada com duas casas decimais. Esse exemplo estuda operações básicas com listas e cálculo de média"
      ],
      "metadata": {
        "id": "1oOUx6Zjg1m1"
      }
    },
    {
      "cell_type": "code",
      "source": [
        "ListaNotas=[3.0,6.6,7.5,1.5,8.8,4.5]\n",
        "soma=0\n",
        "for nota in ListaNotas:\n",
        "  soma=soma+nota\n",
        "media=soma/len(ListaNotas)\n",
        "print(\"A média final :\",'{:.2f}'.format(media))"
      ],
      "metadata": {
        "colab": {
          "base_uri": "https://localhost:8080/"
        },
        "id": "RHhKDMeELUXr",
        "outputId": "0289b029-0530-4a41-c578-c0bf46db2fc2"
      },
      "execution_count": null,
      "outputs": [
        {
          "output_type": "stream",
          "name": "stdout",
          "text": [
            "A média final : 5.32\n"
          ]
        }
      ]
    }
  ]
}